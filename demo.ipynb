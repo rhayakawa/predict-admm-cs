{
  "cells": [
    {
      "cell_type": "markdown",
      "metadata": {
        "id": "view-in-github",
        "colab_type": "text"
      },
      "source": [
        "<a href=\"https://colab.research.google.com/github/rhayakawa/predict-admm-cs/blob/main/demo.ipynb\" target=\"_parent\"><img src=\"https://colab.research.google.com/assets/colab-badge.svg\" alt=\"Open In Colab\"/></a>"
      ]
    },
    {
      "cell_type": "markdown",
      "metadata": {
        "id": "EWfJOwvMCuaf"
      },
      "source": [
        "# predict-admm-cs\n",
        "\n",
        "This is a python demo code for the following paper:  \n",
        "R. Hayakawa, \"Asymptotic performance prediction for ADMM-based compressed sensing,\" IEEE Transactions on Signal Processing, 2022.  \n",
        "([IEEE Xplore](https://ieeexplore.ieee.org/document/9932009), [arXiv](https://arxiv.org/abs/2009.08545), [GitHub](https://github.com/rhayakawa/predict-admm-cs))"
      ]
    },
    {
      "cell_type": "markdown",
      "source": [
        "## git clone"
      ],
      "metadata": {
        "id": "gmutnu5JE2_D"
      }
    },
    {
      "cell_type": "code",
      "source": [
        "!git clone https://github.com/rhayakawa/predict-admm-cs.git\n",
        "%cd predict-admm-cs/code"
      ],
      "metadata": {
        "id": "61vXNJ75C22v"
      },
      "execution_count": null,
      "outputs": []
    },
    {
      "cell_type": "markdown",
      "metadata": {
        "id": "CdJ4v_NYCuah"
      },
      "source": [
        "## import modules"
      ]
    },
    {
      "cell_type": "code",
      "execution_count": null,
      "metadata": {
        "id": "1ke5YulICuah"
      },
      "outputs": [],
      "source": [
        "import numpy as np\n",
        "from tqdm import tqdm\n",
        "from my_module import cs, cgmt, my_plot"
      ]
    },
    {
      "cell_type": "markdown",
      "metadata": {
        "id": "Q83ByTwXCuai"
      },
      "source": [
        "## problem settings\n",
        "\n",
        "We consider the reconstruction of an unknown vector $\\mathbf{x} \\in \\mathbb{R}^{N}$ from its linear measurements \n",
        "\\begin{align*}\n",
        "    \\mathbf{y} = \\mathbf{A} \\mathbf{x} + \\mathbf{v} \\in \\mathbb{R}^{M}, \n",
        "\\end{align*}\n",
        "where $\\mathbf{A} \\in \\mathbb{R}^{M \\times N}$ is a Gaussian measurement matrix and $\\mathbf{v} \\in \\mathbb{R}^{M}$ is an additive Gaussian noise vector. \n",
        "\n",
        "### parameter of the reconstruction problem\n",
        "- N: dimension of the unknown vector $\\mathbf{x}$\n",
        "- delta: measurement ratio $M/N$\n",
        "- distribution: probability distribution of the unknown vector\n",
        "    - 'sparse': Bernoulli-Gaussian distirbution $p_{0} \\delta_{0}(x) + (1 - p_{0}) p_{\\mathrm{Gaussian}}(x)$\n",
        "    - 'binary': binary distribution with $1$ and $-1$\n",
        "- p0: probability of zero (i.e., $p_{0}$) for sparse unknown vectors\n",
        "- sigma2_v: noise variance $\\sigma_{\\text{v}}^{2}$ of the elements of $\\mathbf{v}$\n",
        "\n",
        "### other parameter\n",
        "\n",
        "- measure: performance measure\n",
        "    - 'MSE': mean squared error (for sparse vector)\n",
        "    - 'SER': symbol error rate (for binary vector)\n"
      ]
    },
    {
      "cell_type": "code",
      "execution_count": null,
      "metadata": {
        "id": "p_n0_oMfCuai"
      },
      "outputs": [],
      "source": [
        "prob_param = cs.ProbParam(N=500,  # dimension of the unknown vector\n",
        "                          delta=0.9,  # measurement ratio\n",
        "                          distribution='sparse',  # distribution of the unknown vector\n",
        "                          p0=0.8,  # sparsity of the unknown vector\n",
        "                          sigma2_v=1e-3)  # noise variance\n",
        "measure = 'MSE'  # performance measure"
      ]
    },
    {
      "cell_type": "markdown",
      "metadata": {
        "id": "StQAPymgCuai"
      },
      "source": [
        "## asymptotic performance obtained by CGMT (Convex Gaussian Min-max Theorem) framework\n",
        "\n",
        "We consider the following regularized optimization problem:\n",
        "\\begin{align*}\n",
        "    \\hat{\\mathbf{x}} = \\underset{\\mathbf{s} \\in \\mathbb{R}^{N}}{\\mathrm{arg\\ min}} \n",
        "    \\left\\{ \n",
        "    \\frac{1}{2} \\left\\| \\mathbf{y} - \\mathbf{A} \\mathbf{s}   \\right\\|_{2}^{2} + \\lambda f( \\mathbf{s} )\n",
        "    \\right\\}. \n",
        "\\end{align*}\n",
        "\n",
        "Using CGMT framework, we can obtain the asymptotically optimal error performance of $\\hat{\\mathbf{x}}$ and the corresponding regularization paramter $\\lambda$. "
      ]
    },
    {
      "cell_type": "code",
      "execution_count": null,
      "metadata": {
        "id": "Q3z5G_YbCuaj"
      },
      "outputs": [],
      "source": [
        "sample_size = 100000  # sample size for the prediction (>= 100000 is better)\n",
        "performance_opt, lmd_opt = cgmt.optimal_performance(prob_param, sample_size=sample_size, measure=measure)"
      ]
    },
    {
      "cell_type": "markdown",
      "metadata": {
        "id": "fhj4VaBVCuaj"
      },
      "source": [
        "## algorithm settings\n",
        "\n",
        "The algorithm of ADMM (Alternating Direction Method of Multipliers) for the above optimization problem can be written as follows:\n",
        "\\begin{align*}\n",
        "    \\mathbf{s}^{(k+1)} \n",
        "    &= \n",
        "    \\left( \\mathbf{A}^{\\top} \\mathbf{A} + \\rho \\mathbf{I} \\right)^{-1} \n",
        "    \\left( \\mathbf{A}^{\\top} \\mathbf{y} + \\rho \\left( \\mathbf{z}^{(k)} - \\mathbf{w}^{(k)}\\right) \\right), \\\\\n",
        "    \\mathbf{z}^{(k+1)} \n",
        "    &= \n",
        "    \\mathrm{prox}_{\\frac{\\lambda}{\\rho} f} \\left( \\mathbf{s}^{(k+1)} + \\mathbf{w}^{(k)} \\right), \\\\\n",
        "    \\mathbf{w}^{(k+1)} \n",
        "    &= \n",
        "    \\mathbf{w}^{(k)} + \\mathbf{s}^{(k+1)} - \\mathbf{z}^{(k+1)}.\n",
        "\\end{align*}\n",
        "\n",
        "### parameters of the reconstruction algorithm\n",
        "\n",
        "- lmd: regularization parameter $\\lambda$\n",
        "- rho: parameter of ADMM $\\rho$\n",
        "- prox: proximity operator of the regularizer\n",
        "    - cs.prox_L1: proximity operator of $\\ell_{1}$ regularization (soft thresholding function)\n",
        "    - cs.prox_box: proximity operator for box constratint\n",
        "- num_iteration: number of iterations in ADMM\n"
      ]
    },
    {
      "cell_type": "code",
      "execution_count": null,
      "metadata": {
        "id": "SVV9pZ8MCuaj"
      },
      "outputs": [],
      "source": [
        "alg_param = cs.AlgParam(lmd=lmd_opt,  # regularization parameter\n",
        "                        rho=0.1,  # parameter of ADMM\n",
        "                        prox=cs.prox_L1,  # proximity operator\n",
        "                        num_iteration=20)  # number of iterations"
      ]
    },
    {
      "cell_type": "markdown",
      "metadata": {
        "id": "Chp5Ri0HCuak"
      },
      "source": [
        "## performance prediction via proposed method"
      ]
    },
    {
      "cell_type": "code",
      "execution_count": null,
      "metadata": {
        "id": "QR8_AVLSCuak"
      },
      "outputs": [],
      "source": [
        "array_performance_prediction = cgmt.state_evolution(prob_param, alg_param, sample_size=sample_size, measure=measure, leave=True)"
      ]
    },
    {
      "cell_type": "markdown",
      "metadata": {
        "id": "XhStI1Y3Cuak"
      },
      "source": [
        "## empirical reconstruction performance of ADMM"
      ]
    },
    {
      "cell_type": "code",
      "execution_count": null,
      "metadata": {
        "id": "gFoB5GytCuak"
      },
      "outputs": [],
      "source": [
        "num_empirical = 100  # number of samples for the empirical performance evaluation (>= 100 is better)\n",
        "array_performance_empirical = cs.empirical_performance(prob_param, alg_param, num_empirical=num_empirical, measure=measure, leave=True)"
      ]
    },
    {
      "cell_type": "markdown",
      "metadata": {
        "id": "5PT9NtEECual"
      },
      "source": [
        "## compare the empirical performance and its prediction"
      ]
    },
    {
      "cell_type": "code",
      "execution_count": null,
      "metadata": {
        "id": "QEJRk4_RCual"
      },
      "outputs": [],
      "source": [
        "fig, ax, _, _ = my_plot.setup()\n",
        "line_width = 2\n",
        "marker_size = 10\n",
        "\n",
        "ax.plot(range(alg_param.num_iteration + 1), array_performance_empirical,\n",
        "        label=rf'empirical', linestyle='', marker='o', markersize=marker_size)\n",
        "ax.plot(range(alg_param.num_iteration + 1), array_performance_prediction,\n",
        "        label='prediction', linestyle='-', color='k', linewidth=line_width)\n",
        "ax.hlines(y=performance_opt, xmin=0, xmax=alg_param.num_iteration,\n",
        "          label=f'asymptotic {measure} of optimizer', linestyle='--', color='k', linewidth=line_width)\n",
        "\n",
        "my_plot.set_ax_property(ax,\n",
        "                        yscale='log',\n",
        "                        xticks=range(0, alg_param.num_iteration + 1, 5),\n",
        "                        xlim_left=0,\n",
        "                        xlim_right=alg_param.num_iteration,\n",
        "                        xlabel='number of iterations',\n",
        "                        ylabel=measure)"
      ]
    }
  ],
  "metadata": {
    "kernelspec": {
      "display_name": "Python 3.11.0 64-bit",
      "language": "python",
      "name": "python3"
    },
    "language_info": {
      "codemirror_mode": {
        "name": "ipython",
        "version": 3
      },
      "file_extension": ".py",
      "mimetype": "text/x-python",
      "name": "python",
      "nbconvert_exporter": "python",
      "pygments_lexer": "ipython3",
      "version": "3.11.0"
    },
    "orig_nbformat": 4,
    "vscode": {
      "interpreter": {
        "hash": "949777d72b0d2535278d3dc13498b2535136f6dfe0678499012e853ee9abcab1"
      }
    },
    "colab": {
      "provenance": [],
      "collapsed_sections": [],
      "include_colab_link": true
    }
  },
  "nbformat": 4,
  "nbformat_minor": 0
}